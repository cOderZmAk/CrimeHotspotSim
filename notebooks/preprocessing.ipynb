{
 "cells": [
  {
   "metadata": {
    "ExecuteTime": {
     "end_time": "2025-10-15T03:36:46.661709Z",
     "start_time": "2025-10-15T03:36:46.599325Z"
    }
   },
   "cell_type": "code",
   "source": [
    "import os\n",
    "import pandas as pd\n",
    "import numpy as np\n",
    "import geopandas as gpd\n",
    "from shapely.geometry import Point, box\n",
    "\n",
    "RAW_PATH = \"../data/raw/Crime_Data_from_2020_to_Present.csv\"  # adjust if needed\n",
    "PROCESSED_DIR = \"../data/processed\"\n",
    "os.makedirs(PROCESSED_DIR, exist_ok=True)"
   ],
   "id": "3646d7928e16fcf9",
   "outputs": [],
   "execution_count": 7
  },
  {
   "metadata": {
    "ExecuteTime": {
     "end_time": "2025-10-15T03:36:51.833618Z",
     "start_time": "2025-10-15T03:36:46.676256Z"
    }
   },
   "cell_type": "code",
   "source": [
    "# Load\n",
    "df = pd.read_csv(RAW_PATH)\n",
    "\n",
    "# Peek\n",
    "print(df.shape)\n",
    "print(df.columns.tolist()[:30])\n",
    "\n",
    "# Try to detect lat/lon columns among common names\n",
    "lat_candidates = [\"Latitude\", \"LAT\", \"lat\", \"Y\", \"Lat\"]\n",
    "lon_candidates = [\"Longitude\", \"LON\", \"lon\", \"X\", \"Lng\", \"Long\"]\n",
    "\n",
    "def find_col(cands):\n",
    "    for c in cands:\n",
    "        if c in df.columns:\n",
    "            return c\n",
    "    return None\n",
    "\n",
    "LAT_COL = find_col(lat_candidates)\n",
    "LON_COL = find_col(lon_candidates)\n",
    "\n",
    "if LAT_COL is None or LON_COL is None:\n",
    "    raise ValueError(f\"Couldn't find latitude/longitude columns. Found LAT={LAT_COL}, LON={LON_COL}\")\n",
    "\n",
    "# Try to detect a date column\n",
    "date_candidates = [\"Date\", \"DATE OCC\", \"DATE_OCC\", \"Occurred_Date\", \"Reported_Date\", \"date\", \"DATE\"]\n",
    "DATE_COL = find_col(date_candidates)\n",
    "if DATE_COL is None:\n",
    "    # As fallback, show columns so you can pick manually\n",
    "    raise ValueError(\"Couldn't detect a date column. Print df.columns and choose one.\")\n",
    "\n",
    "# Standardize columns we’ll use later\n",
    "df = df.rename(columns={LAT_COL: \"Latitude\", LON_COL: \"Longitude\", DATE_COL: \"Date\"})"
   ],
   "id": "5597af4603f414db",
   "outputs": [
    {
     "name": "stdout",
     "output_type": "stream",
     "text": [
      "(1004991, 28)\n",
      "['DR_NO', 'Date Rptd', 'DATE OCC', 'TIME OCC', 'AREA', 'AREA NAME', 'Rpt Dist No', 'Part 1-2', 'Crm Cd', 'Crm Cd Desc', 'Mocodes', 'Vict Age', 'Vict Sex', 'Vict Descent', 'Premis Cd', 'Premis Desc', 'Weapon Used Cd', 'Weapon Desc', 'Status', 'Status Desc', 'Crm Cd 1', 'Crm Cd 2', 'Crm Cd 3', 'Crm Cd 4', 'LOCATION', 'Cross Street', 'LAT', 'LON']\n"
     ]
    }
   ],
   "execution_count": 8
  },
  {
   "metadata": {
    "ExecuteTime": {
     "end_time": "2025-10-15T03:36:59.258335Z",
     "start_time": "2025-10-15T03:36:51.914317Z"
    }
   },
   "cell_type": "code",
   "source": [
    "# Drop rows without coordinates\n",
    "df = df.dropna(subset=[\"Latitude\", \"Longitude\"]).copy()\n",
    "\n",
    "# Coerce to numeric just in case\n",
    "df[\"Latitude\"] = pd.to_numeric(df[\"Latitude\"], errors=\"coerce\")\n",
    "df[\"Longitude\"] = pd.to_numeric(df[\"Longitude\"], errors=\"coerce\")\n",
    "df = df.dropna(subset=[\"Latitude\", \"Longitude\"])\n",
    "\n",
    "# Parse date; coerce bad rows to NaT then drop\n",
    "df[\"Date\"] = pd.to_datetime(df[\"Date\"], format=\"%m/%d/%Y %I:%M:%S %p\", errors=\"coerce\", utc=True)\n",
    "df = df.dropna(subset=[\"Date\"]).copy()\n",
    "\n",
    "# Keep 2020+ if not already filtered\n",
    "df = df[df[\"Date\"].dt.year >= 2020].copy()\n",
    "\n",
    "# Save the cleaned points (optional)\n",
    "df.to_csv(f\"{PROCESSED_DIR}/crime_cleaned.csv\", index=False)\n",
    "print(\"Saved cleaned points:\", f\"{PROCESSED_DIR}/crime_cleaned.csv\", df.shape)"
   ],
   "id": "7f65971a885f9040",
   "outputs": [
    {
     "name": "stdout",
     "output_type": "stream",
     "text": [
      "Saved cleaned points: ../data/processed/crime_cleaned.csv (1004991, 28)\n"
     ]
    }
   ],
   "execution_count": 9
  },
  {
   "metadata": {
    "ExecuteTime": {
     "end_time": "2025-10-15T03:37:01.144474Z",
     "start_time": "2025-10-15T03:36:59.283862Z"
    }
   },
   "cell_type": "code",
   "source": [
    "gdf = gpd.GeoDataFrame(\n",
    "    df,\n",
    "    geometry=gpd.points_from_xy(df[\"Longitude\"], df[\"Latitude\"]),\n",
    "    crs=\"EPSG:4326\"\n",
    ")\n",
    "\n",
    "# Pick a good local UTM automatically (so grid sizes are real meters)\n",
    "utm_crs = gdf.estimate_utm_crs()\n",
    "gdf_utm = gdf.to_crs(utm_crs)\n",
    "utm_crs"
   ],
   "id": "de61b6d85b763408",
   "outputs": [
    {
     "data": {
      "text/plain": [
       "<Projected CRS: EPSG:32621>\n",
       "Name: WGS 84 / UTM zone 21N\n",
       "Axis Info [cartesian]:\n",
       "- E[east]: Easting (metre)\n",
       "- N[north]: Northing (metre)\n",
       "Area of Use:\n",
       "- name: Between 60°W and 54°W, northern hemisphere between equator and 84°N, onshore and offshore. Barbados. Brazil. Canada - Newfoundland and Labrador, Quebec. French Guiana. Greenland. Guyana. St Pierre and Miquelon. Suriname.\n",
       "- bounds: (-60.0, 0.0, -54.0, 84.0)\n",
       "Coordinate Operation:\n",
       "- name: UTM zone 21N\n",
       "- method: Transverse Mercator\n",
       "Datum: World Geodetic System 1984 ensemble\n",
       "- Ellipsoid: WGS 84\n",
       "- Prime Meridian: Greenwich"
      ]
     },
     "execution_count": 10,
     "metadata": {},
     "output_type": "execute_result"
    }
   ],
   "execution_count": 10
  }
 ],
 "metadata": {
  "kernelspec": {
   "display_name": "Python 3",
   "language": "python",
   "name": "python3"
  },
  "language_info": {
   "codemirror_mode": {
    "name": "ipython",
    "version": 2
   },
   "file_extension": ".py",
   "mimetype": "text/x-python",
   "name": "python",
   "nbconvert_exporter": "python",
   "pygments_lexer": "ipython2",
   "version": "2.7.6"
  }
 },
 "nbformat": 4,
 "nbformat_minor": 5
}
